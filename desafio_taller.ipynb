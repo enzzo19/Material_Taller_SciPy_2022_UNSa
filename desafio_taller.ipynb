{
 "cells": [
  {
   "cell_type": "markdown",
   "metadata": {},
   "source": [
    "# Desafio para el Taller de Scipy 2022 UNSA\n",
    "\n",
    "![logo](source/scipy_salta_2022_image.png)\n",
    "\n",
    "Aquí tienes un sencillo rompecabezas para que entres en calor.\n",
    "\n",
    "Santa está tratando de entregar regalos en un gran edificio de apartamentos, pero no puede encontrar el piso correcto; las instrucciones que obtuvo son un poco confusas. Comienza en la planta baja (piso 0) y luego sigue las instrucciones un carácter a la vez.\n",
    "\n",
    "Un paréntesis de apertura,`(`, significa que debe subir un piso, y un paréntesis de cierre, `)`, significa que debe bajar un piso.\n",
    "\n",
    "El edificio de apartamentos es muy alto y el sótano es muy profundo; nunca encontrará los pisos superior o inferior.\n",
    "\n",
    "Por ejemplo:\n",
    "\n",
    "`(())` y `() ()` ambos dan como resultado el piso 0. \n",
    "\n",
    "`(((` y `(() (() (` ambos resultan en el piso 3.\n",
    "\n",
    "`)) ((((((` también resulta en el piso 3. \n",
    "\n",
    "`())` y `)) (` ambos resultan en el piso -1 (el primer nivel del sótano).\n",
    "\n",
    "`))) ` y `) ()) ())` ambos dan como resultado el piso -3. \n",
    "\n",
    "¿A qué piso llevan las instrucciones a Santa?"
   ]
  },
  {
   "cell_type": "code",
   "execution_count": null,
   "metadata": {},
   "outputs": [],
   "source": [
    "# Intenta tu Solucion aqui\n"
   ]
  }
 ],
 "metadata": {
  "kernelspec": {
   "display_name": "Python 3.7.9 ('base')",
   "language": "python",
   "name": "python3"
  },
  "language_info": {
   "codemirror_mode": {
    "name": "ipython",
    "version": 3
   },
   "file_extension": ".py",
   "mimetype": "text/x-python",
   "name": "python",
   "nbconvert_exporter": "python",
   "pygments_lexer": "ipython3",
   "version": "3.7.9"
  },
  "orig_nbformat": 4,
  "vscode": {
   "interpreter": {
    "hash": "db864f8ca90ede6b84ffc2f7e80e9cf6f8fbe17d595c8611743c81e815610f3b"
   }
  }
 },
 "nbformat": 4,
 "nbformat_minor": 2
}
